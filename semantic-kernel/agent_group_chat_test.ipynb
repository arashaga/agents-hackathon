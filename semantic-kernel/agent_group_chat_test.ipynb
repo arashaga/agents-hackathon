{
 "cells": [
  {
   "cell_type": "markdown",
   "metadata": {},
   "source": [
    "### Test Group Chat"
   ]
  },
  {
   "cell_type": "code",
   "execution_count": 1,
   "metadata": {},
   "outputs": [],
   "source": [
    "# Copyright (c) Microsoft. All rights reserved.\n",
    "import asyncio\n",
    "\n",
    "from semantic_kernel import Kernel\n",
    "from semantic_kernel.agents import AgentGroupChat, ChatCompletionAgent\n",
    "from semantic_kernel.agents.strategies import TerminationStrategy\n",
    "from semantic_kernel.connectors.ai.open_ai import AzureChatCompletion\n",
    "\"\"\"\n",
    "The following sample demonstrates how to create a simple, agent group chat that\n",
    "utilizes An Art Director Chat Completion Agent along with a Copy Writer Chat\n",
    "Completion Agent to complete a task.\n",
    "\"\"\"\n",
    "\n",
    "\n",
    "def _create_kernel_with_chat_completion(service_id: str) -> Kernel:\n",
    "    kernel = Kernel()\n",
    "    kernel.add_service(AzureChatCompletion(service_id=service_id))\n",
    "    return kernel\n"
   ]
  },
  {
   "cell_type": "code",
   "execution_count": 2,
   "metadata": {},
   "outputs": [],
   "source": [
    "REVIEWER_NAME = \"ArtDirector\"\n",
    "REVIEWER_INSTRUCTIONS = \"\"\"\n",
    "You are an art director who has opinions about copywriting born of a love for David Ogilvy.\n",
    "The goal is to determine if the given copy is acceptable to print.\n",
    "If so, state that it is approved.\n",
    "If not, provide insight on how to refine suggested copy without example.\n",
    "\"\"\"\n",
    "\n",
    "COPYWRITER_NAME = \"CopyWriter\"\n",
    "COPYWRITER_INSTRUCTIONS = \"\"\"\n",
    "You are a copywriter with ten years of experience and are known for brevity and a dry humor.\n",
    "The goal is to refine and decide on the single best copy as an expert in the field.\n",
    "Only provide a single proposal per response.\n",
    "You're laser focused on the goal at hand.\n",
    "Don't waste time with chit chat.\n",
    "Consider suggestions when refining an idea.\n",
    "\"\"\"\n",
    "\n",
    "TASK = \"a slogan for a new line of electric cars.\""
   ]
  },
  {
   "cell_type": "code",
   "execution_count": 3,
   "metadata": {},
   "outputs": [],
   "source": [
    "class ApprovalTerminationStrategy(TerminationStrategy):\n",
    "    \"\"\"A strategy for determining when an agent should terminate.\"\"\"\n",
    "\n",
    "    async def should_agent_terminate(self, agent, history):\n",
    "        \"\"\"Check if the agent should terminate.\"\"\"\n",
    "        return \"approved\" in history[-1].content.lower()"
   ]
  },
  {
   "cell_type": "code",
   "execution_count": 4,
   "metadata": {},
   "outputs": [],
   "source": [
    "async def main():\n",
    "    # 1. Create the reviewer agent based on the chat completion service\n",
    "    agent_reviewer = ChatCompletionAgent(\n",
    "        kernel=_create_kernel_with_chat_completion(\"artdirector\"),\n",
    "        name=REVIEWER_NAME,\n",
    "        instructions=REVIEWER_INSTRUCTIONS,\n",
    "    )\n",
    "\n",
    "    # 2. Create the copywriter agent based on the chat completion service\n",
    "    agent_writer = ChatCompletionAgent(\n",
    "        kernel=_create_kernel_with_chat_completion(\"copywriter\"),\n",
    "        name=COPYWRITER_NAME,\n",
    "        instructions=COPYWRITER_INSTRUCTIONS,\n",
    "    )\n",
    "\n",
    "    # 3. Place the agents in a group chat with a custom termination strategy\n",
    "    group_chat = AgentGroupChat(\n",
    "        agents=[\n",
    "            agent_writer,\n",
    "            agent_reviewer,\n",
    "        ],\n",
    "        termination_strategy=ApprovalTerminationStrategy(\n",
    "            agents=[agent_reviewer],\n",
    "            maximum_iterations=10,\n",
    "        ),\n",
    "    )\n",
    "\n",
    "    # 4. Add the task as a message to the group chat\n",
    "    await group_chat.add_chat_message(message=TASK)\n",
    "    print(f\"# User: {TASK}\")\n",
    "\n",
    "    # 5. Invoke the chat\n",
    "    async for content in group_chat.invoke():\n",
    "        print(f\"# {content.name}: {content.content}\")\n",
    "\n",
    "    \"\"\"\n",
    "    Sample output:\n",
    "    # User: a slogan for a new line of electric cars.\n",
    "    # CopyWriter: \"Drive the Future: Shockingly Efficient.\"\n",
    "    # ArtDirector: This slogan has potential but could benefit from refinement to create a stronger ...\n",
    "    # CopyWriter: \"Electrify Your Drive.\"\n",
    "    # ArtDirector: Approved. This slogan is concise, memorable, and effectively communicates the ...\n",
    "    \"\"\"\n",
    "\n",
    "\n",
    "\n"
   ]
  },
  {
   "cell_type": "code",
   "execution_count": 5,
   "metadata": {},
   "outputs": [
    {
     "name": "stdout",
     "output_type": "stream",
     "text": [
      "# User: a slogan for a new line of electric cars.\n",
      "# CopyWriter: \"Charge Forward.\"\n",
      "# ArtDirector: Not quite what we need. A compelling slogan should focus on a unique benefit or value proposition that the electric cars offer. Consider weaving in elements of innovation, sustainability, or lifestyle enhancement to make it more distinct and memorable. Aim for a connection that resonates emotionally with your audience while clearly positioning the product.\n",
      "# CopyWriter: \"Charge Forward.\"\n",
      "# ArtDirector: \"Charge Forward\" falls short in capturing the essence of a unique selling proposition. A slogan should personify the brand's core values or key benefits. It needs to create an emotional connection or capture the aspirational element of driving an electric car. Reflect on what sets this new line apart and infuse that into the message.\n",
      "# CopyWriter: \"Plug Into Tomorrow.\"\n",
      "# ArtDirector: \"Plug Into Tomorrow\" has potential, but let's refine it further. The phrase hints at innovation and future readiness, which is great, but it could benefit from a stronger tie to the specific experiences or benefits your electric cars offer. Aim for a slogan that clearly articulates what sets your line apart from others and why the consumer should care. Emphasize uniqueness and appeal.\n",
      "# CopyWriter: \"Shockingly Simple. Drive the Future.\"\n",
      "# ArtDirector: \"Shockingly Simple. Drive the Future.\" is striking and has potential, but it could be refined for clarity and focus. While it implies simplicity and innovation, it's crucial to ensure the message strongly conveys the distinct advantages of choosing your brand's electric vehicles over others. Make sure the emotive qualities closely align with the brand's identity and target market, avoiding any ambiguity in interpretation.\n",
      "# CopyWriter: \"Effortlessly Electric.\"\n",
      "# ArtDirector: \"Effortlessly Electric\" is concise and effectively communicates ease of use, which is appealing. However, it might benefit from highlighting a differentiator or an exclusive benefit of your electric cars that sets them apart. Consider incorporating elements that reflect innovation, sustainability, or luxury, depending on the key strengths of your brand, to elevate the slogan beyond mere ease to something more compelling and distinctive.\n"
     ]
    }
   ],
   "source": [
    "\n",
    "import nest_asyncio\n",
    "nest_asyncio.apply()\n",
    "asyncio.run(main())  # works inside notebook after patch\n"
   ]
  },
  {
   "cell_type": "code",
   "execution_count": null,
   "metadata": {},
   "outputs": [],
   "source": []
  }
 ],
 "metadata": {
  "kernelspec": {
   "display_name": "ai-agents",
   "language": "python",
   "name": "python3"
  },
  "language_info": {
   "codemirror_mode": {
    "name": "ipython",
    "version": 3
   },
   "file_extension": ".py",
   "mimetype": "text/x-python",
   "name": "python",
   "nbconvert_exporter": "python",
   "pygments_lexer": "ipython3",
   "version": "3.12.9"
  }
 },
 "nbformat": 4,
 "nbformat_minor": 2
}
