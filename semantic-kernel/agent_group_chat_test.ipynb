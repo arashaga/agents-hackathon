{
 "cells": [
  {
   "cell_type": "markdown",
   "metadata": {},
   "source": [
    "### Test Group Chat"
   ]
  },
  {
   "cell_type": "code",
   "execution_count": null,
   "metadata": {},
   "outputs": [],
   "source": [
    "# Copyright (c) Microsoft. All rights reserved.\n",
    "import asyncio\n",
    "\n",
    "from semantic_kernel import Kernel\n",
    "from semantic_kernel.agents import AgentGroupChat, ChatCompletionAgent\n",
    "from semantic_kernel.agents.strategies import TerminationStrategy\n",
    "from semantic_kernel.connectors.ai.open_ai import AzureChatCompletion\n",
    "\"\"\"\n",
    "The following sample demonstrates how to create a simple, agent group chat that\n",
    "utilizes An Art Director Chat Completion Agent along with a Copy Writer Chat\n",
    "Completion Agent to complete a task.\n",
    "\"\"\"\n",
    "\n",
    "\n",
    "def _create_kernel_with_chat_completion(service_id: str) -> Kernel:\n",
    "    kernel = Kernel()\n",
    "    kernel.add_service(AzureChatCompletion(service_id=service_id))\n",
    "    return kernel\n"
   ]
  },
  {
   "cell_type": "code",
   "execution_count": null,
   "metadata": {},
   "outputs": [],
   "source": [
    "REVIEWER_NAME = \"ArtDirector\"\n",
    "REVIEWER_INSTRUCTIONS = \"\"\"\n",
    "You are an art director who has opinions about copywriting born of a love for David Ogilvy.\n",
    "The goal is to determine if the given copy is acceptable to print.\n",
    "If so, state that it is approved.\n",
    "If not, provide insight on how to refine suggested copy without example.\n",
    "\"\"\"\n",
    "\n",
    "COPYWRITER_NAME = \"CopyWriter\"\n",
    "COPYWRITER_INSTRUCTIONS = \"\"\"\n",
    "You are a copywriter with ten years of experience and are known for brevity and a dry humor.\n",
    "The goal is to refine and decide on the single best copy as an expert in the field.\n",
    "Only provide a single proposal per response.\n",
    "You're laser focused on the goal at hand.\n",
    "Don't waste time with chit chat.\n",
    "Consider suggestions when refining an idea.\n",
    "\"\"\"\n",
    "\n",
    "TASK = \"a slogan for a new line of electric cars.\""
   ]
  },
  {
   "cell_type": "code",
   "execution_count": null,
   "metadata": {},
   "outputs": [],
   "source": [
    "class ApprovalTerminationStrategy(TerminationStrategy):\n",
    "    \"\"\"A strategy for determining when an agent should terminate.\"\"\"\n",
    "\n",
    "    async def should_agent_terminate(self, agent, history):\n",
    "        \"\"\"Check if the agent should terminate.\"\"\"\n",
    "        return \"approved\" in history[-1].content.lower()"
   ]
  },
  {
   "cell_type": "code",
   "execution_count": null,
   "metadata": {},
   "outputs": [],
   "source": [
    "async def main():\n",
    "    # 1. Create the reviewer agent based on the chat completion service\n",
    "    agent_reviewer = ChatCompletionAgent(\n",
    "        kernel=_create_kernel_with_chat_completion(\"artdirector\"),\n",
    "        name=REVIEWER_NAME,\n",
    "        instructions=REVIEWER_INSTRUCTIONS,\n",
    "    )\n",
    "\n",
    "    # 2. Create the copywriter agent based on the chat completion service\n",
    "    agent_writer = ChatCompletionAgent(\n",
    "        kernel=_create_kernel_with_chat_completion(\"copywriter\"),\n",
    "        name=COPYWRITER_NAME,\n",
    "        instructions=COPYWRITER_INSTRUCTIONS,\n",
    "    )\n",
    "\n",
    "    # 3. Place the agents in a group chat with a custom termination strategy\n",
    "    group_chat = AgentGroupChat(\n",
    "        agents=[\n",
    "            agent_writer,\n",
    "            agent_reviewer,\n",
    "        ],\n",
    "        termination_strategy=ApprovalTerminationStrategy(\n",
    "            agents=[agent_reviewer],\n",
    "            maximum_iterations=10,\n",
    "        ),\n",
    "    )\n",
    "\n",
    "    # 4. Add the task as a message to the group chat\n",
    "    await group_chat.add_chat_message(message=TASK)\n",
    "    print(f\"# User: {TASK}\")\n",
    "\n",
    "    # 5. Invoke the chat\n",
    "    async for content in group_chat.invoke():\n",
    "        print(f\"# {content.name}: {content.content}\")\n",
    "\n",
    "    \"\"\"\n",
    "    Sample output:\n",
    "    # User: a slogan for a new line of electric cars.\n",
    "    # CopyWriter: \"Drive the Future: Shockingly Efficient.\"\n",
    "    # ArtDirector: This slogan has potential but could benefit from refinement to create a stronger ...\n",
    "    # CopyWriter: \"Electrify Your Drive.\"\n",
    "    # ArtDirector: Approved. This slogan is concise, memorable, and effectively communicates the ...\n",
    "    \"\"\"\n",
    "\n",
    "\n",
    "\n"
   ]
  },
  {
   "cell_type": "code",
   "execution_count": null,
   "metadata": {},
   "outputs": [],
   "source": [
    "\n",
    "import nest_asyncio\n",
    "nest_asyncio.apply()\n",
    "asyncio.run(main())  # works inside notebook after patch\n"
   ]
  },
  {
   "cell_type": "code",
   "execution_count": null,
   "metadata": {},
   "outputs": [],
   "source": []
  }
 ],
 "metadata": {
  "kernelspec": {
   "display_name": "dev",
   "language": "python",
   "name": "python3"
  },
  "language_info": {
   "codemirror_mode": {
    "name": "ipython",
    "version": 3
   },
   "file_extension": ".py",
   "mimetype": "text/x-python",
   "name": "python",
   "nbconvert_exporter": "python",
   "pygments_lexer": "ipython3",
   "version": "3.11.11"
  }
 },
 "nbformat": 4,
 "nbformat_minor": 2
}
