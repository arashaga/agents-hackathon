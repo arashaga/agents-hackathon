{
 "cells": [
  {
   "cell_type": "code",
   "execution_count": 58,
   "metadata": {},
   "outputs": [
    {
     "data": {
      "text/plain": [
       "True"
      ]
     },
     "execution_count": 58,
     "metadata": {},
     "output_type": "execute_result"
    }
   ],
   "source": [
    "import os\n",
    "import asyncio\n",
    "import yaml\n",
    "import json\n",
    "import re\n",
    "import textwrap\n",
    "import base64\n",
    "import openlit\n",
    "from dotenv import load_dotenv\n",
    "from semantic_kernel import Kernel\n",
    "from semantic_kernel.agents import ChatCompletionAgent, AgentGroupChat\n",
    "from semantic_kernel.agents.strategies import KernelFunctionTerminationStrategy, KernelFunctionSelectionStrategy\n",
    "from semantic_kernel.connectors.ai.open_ai import AzureChatCompletion, AzureChatPromptExecutionSettings\n",
    "from semantic_kernel.connectors.search_engine import GoogleConnector\n",
    "from semantic_kernel.core_plugins import WebSearchEnginePlugin\n",
    "from semantic_kernel.functions import KernelFunctionFromPrompt, KernelArguments\n",
    "from pydantic import BaseModel, Field, ValidationError\n",
    "from typing import List\n",
    "from IPython.display import display, Markdown\n",
    "\n",
    "load_dotenv()"
   ]
  },
  {
   "cell_type": "code",
   "execution_count": 59,
   "metadata": {},
   "outputs": [
    {
     "name": "stderr",
     "output_type": "stream",
     "text": [
      "Failed to instrument openai: No module named 'openai.resources.responses'\n",
      "DependencyConflict: requested: \"cohere >= 5.14.0\" but found: \"cohere 5.13.12\"\n",
      "/opt/conda/envs/dev/lib/python3.11/site-packages/tqdm/auto.py:21: TqdmWarning: IProgress not found. Please update jupyter and ipywidgets. See https://ipywidgets.readthedocs.io/en/stable/user_install.html\n",
      "  from .autonotebook import tqdm as notebook_tqdm\n",
      "None of PyTorch, TensorFlow >= 2.0, or Flax have been found. Models won't be available and only tokenizers, configuration and file/data utilities can be used.\n",
      "None of PyTorch, TensorFlow >= 2.0, or Flax have been found. Models won't be available and only tokenizers, configuration and file/data utilities can be used.\n",
      "/opt/conda/envs/dev/lib/python3.11/site-packages/pydantic/_internal/_config.py:345: UserWarning: Valid config keys have changed in V2:\n",
      "* 'fields' has been removed\n",
      "  warnings.warn(message, UserWarning)\n",
      "2025-04-01 18:38:51,171 - 140088696608000 - instrumentor.py-instrumentor:108 - ERROR: DependencyConflict: requested: \"ag2 >= 0.3.2\" but found: \"None\"\n"
     ]
    },
    {
     "name": "stderr",
     "output_type": "stream",
     "text": [
      "2025-04-01 18:39:41,921 - 140086947489472 - __init__.py-__init__:219 - ERROR: Failed to export batch code: 404, reason: <!DOCTYPE html><html lang=\"en\"><head><meta charSet=\"utf-8\"/><meta name=\"viewport\" content=\"width=device-width\"/><meta name=\"next-head-count\" content=\"2\"/><link rel=\"preload\" href=\"/_next/static/css/0b9f113e135a0e79.css\" as=\"style\"/><link rel=\"stylesheet\" href=\"/_next/static/css/0b9f113e135a0e79.css\" data-n-g=\"\"/><noscript data-n-css=\"\"></noscript><script defer=\"\" nomodule=\"\" src=\"/_next/static/chunks/polyfills-42372ed130431b0a.js\"></script><script src=\"/_next/static/chunks/webpack-c91adb34796940e3.js\" defer=\"\"></script><script src=\"/_next/static/chunks/framework-c511aa5252cf0ba6.js\" defer=\"\"></script><script src=\"/_next/static/chunks/main-32b51fff0a416685.js\" defer=\"\"></script><script src=\"/_next/static/chunks/pages/_app-d5d8f035227b6c53.js\" defer=\"\"></script><script src=\"/_next/static/chunks/pages/_error-95ac29e5a92b4557.js\" defer=\"\"></script><script src=\"/_next/static/o4K4UwPwKRw-kuIWynpI1/_buildManifest.js\" defer=\"\"></script><script src=\"/_next/static/o4K4UwPwKRw-kuIWynpI1/_ssgManifest.js\" defer=\"\"></script></head><body><div id=\"__next\"><script>!function(){try{var d=document.documentElement,c=d.classList;c.remove('light','dark');var e=localStorage.getItem('theme');if('system'===e||(!e&&true)){var t='(prefers-color-scheme: dark)',m=window.matchMedia(t);if(m.media!==t||m.matches){d.style.colorScheme = 'dark';c.add('dark')}else{d.style.colorScheme = 'light';c.add('light')}}else if(e){c.add(e|| '')}if(e==='light'||e==='dark')d.style.colorScheme=e}catch(e){}}()</script><div class=\"flex min-h-full flex-1 flex-col justify-center py-12 sm:px-6 lg:px-8\" data-sentry-component=\"Spinner\" data-sentry-source-file=\"spinner.tsx\"><div class=\"sm:mx-auto sm:w-full sm:max-w-md\"><img src=\"/icon.svg\" width=\"42\" height=\"42\" alt=\"Langfuse Icon\" class=\"mx-auto motion-safe:animate-spin\" data-sentry-component=\"LangfuseIcon\" data-sentry-source-file=\"LangfuseLogo.tsx\"/><h2 class=\"mt-5 text-center text-2xl font-bold leading-9 tracking-tight text-primary\">Loading<!-- --> ...</h2></div></div><script src=\"https://uptime.betterstack.com/widgets/announcement.js\" data-id=\"189328\" async=\"\" type=\"text/javascript\" data-sentry-component=\"BetterStackUptimeStatusMessage\" data-sentry-source-file=\"_app.tsx\"></script> </div><script id=\"__NEXT_DATA__\" type=\"application/json\">{\"props\":{\"pageProps\":{\"statusCode\":404}},\"page\":\"/_error\",\"query\":{},\"buildId\":\"o4K4UwPwKRw-kuIWynpI1\",\"nextExport\":true,\"isFallback\":false,\"gip\":true,\"locale\":\"en\",\"locales\":[\"en\"],\"defaultLocale\":\"en\",\"scriptLoader\":[]}</script><script>(function(){function c(){var b=a.contentDocument||a.contentWindow.document;if(b){var d=b.createElement('script');d.innerHTML=\"window.__CF$cv$params={r:'929a35eddacc6b52',t:'MTc0MzUzMjc4MS4wMDAwMDA='};var a=document.createElement('script');a.nonce='';a.src='/cdn-cgi/challenge-platform/scripts/jsd/main.js';document.getElementsByTagName('head')[0].appendChild(a);\";b.getElementsByTagName('head')[0].appendChild(d)}}if(document.body){var a=document.createElement('iframe');a.height=1;a.width=1;a.style.position='absolute';a.style.top=0;a.style.left=0;a.style.border='none';a.style.visibility='hidden';document.body.appendChild(a);if('loading'!==document.readyState)c();else if(window.addEventListener)document.addEventListener('DOMContentLoaded',c);else{var e=document.onreadystatechange||function(){};document.onreadystatechange=function(b){e(b);'loading'!==document.readyState&&(document.onreadystatechange=e,c())}}}})();</script></body></html>\n",
      "2025-04-01 18:40:42,069 - 140086947489472 - __init__.py-__init__:219 - ERROR: Failed to export batch code: 404, reason: <!DOCTYPE html><html lang=\"en\"><head><meta charSet=\"utf-8\"/><meta name=\"viewport\" content=\"width=device-width\"/><meta name=\"next-head-count\" content=\"2\"/><link rel=\"preload\" href=\"/_next/static/css/0b9f113e135a0e79.css\" as=\"style\"/><link rel=\"stylesheet\" href=\"/_next/static/css/0b9f113e135a0e79.css\" data-n-g=\"\"/><noscript data-n-css=\"\"></noscript><script defer=\"\" nomodule=\"\" src=\"/_next/static/chunks/polyfills-42372ed130431b0a.js\"></script><script src=\"/_next/static/chunks/webpack-c91adb34796940e3.js\" defer=\"\"></script><script src=\"/_next/static/chunks/framework-c511aa5252cf0ba6.js\" defer=\"\"></script><script src=\"/_next/static/chunks/main-32b51fff0a416685.js\" defer=\"\"></script><script src=\"/_next/static/chunks/pages/_app-d5d8f035227b6c53.js\" defer=\"\"></script><script src=\"/_next/static/chunks/pages/_error-95ac29e5a92b4557.js\" defer=\"\"></script><script src=\"/_next/static/o4K4UwPwKRw-kuIWynpI1/_buildManifest.js\" defer=\"\"></script><script src=\"/_next/static/o4K4UwPwKRw-kuIWynpI1/_ssgManifest.js\" defer=\"\"></script></head><body><div id=\"__next\"><script>!function(){try{var d=document.documentElement,c=d.classList;c.remove('light','dark');var e=localStorage.getItem('theme');if('system'===e||(!e&&true)){var t='(prefers-color-scheme: dark)',m=window.matchMedia(t);if(m.media!==t||m.matches){d.style.colorScheme = 'dark';c.add('dark')}else{d.style.colorScheme = 'light';c.add('light')}}else if(e){c.add(e|| '')}if(e==='light'||e==='dark')d.style.colorScheme=e}catch(e){}}()</script><div class=\"flex min-h-full flex-1 flex-col justify-center py-12 sm:px-6 lg:px-8\" data-sentry-component=\"Spinner\" data-sentry-source-file=\"spinner.tsx\"><div class=\"sm:mx-auto sm:w-full sm:max-w-md\"><img src=\"/icon.svg\" width=\"42\" height=\"42\" alt=\"Langfuse Icon\" class=\"mx-auto motion-safe:animate-spin\" data-sentry-component=\"LangfuseIcon\" data-sentry-source-file=\"LangfuseLogo.tsx\"/><h2 class=\"mt-5 text-center text-2xl font-bold leading-9 tracking-tight text-primary\">Loading<!-- --> ...</h2></div></div><script src=\"https://uptime.betterstack.com/widgets/announcement.js\" data-id=\"189328\" async=\"\" type=\"text/javascript\" data-sentry-component=\"BetterStackUptimeStatusMessage\" data-sentry-source-file=\"_app.tsx\"></script> </div><script id=\"__NEXT_DATA__\" type=\"application/json\">{\"props\":{\"pageProps\":{\"statusCode\":404}},\"page\":\"/_error\",\"query\":{},\"buildId\":\"o4K4UwPwKRw-kuIWynpI1\",\"nextExport\":true,\"isFallback\":false,\"gip\":true,\"locale\":\"en\",\"locales\":[\"en\"],\"defaultLocale\":\"en\",\"scriptLoader\":[]}</script><script>(function(){function c(){var b=a.contentDocument||a.contentWindow.document;if(b){var d=b.createElement('script');d.innerHTML=\"window.__CF$cv$params={r:'929a37666b736b52',t:'MTc0MzUzMjg0Mi4wMDAwMDA='};var a=document.createElement('script');a.nonce='';a.src='/cdn-cgi/challenge-platform/scripts/jsd/main.js';document.getElementsByTagName('head')[0].appendChild(a);\";b.getElementsByTagName('head')[0].appendChild(d)}}if(document.body){var a=document.createElement('iframe');a.height=1;a.width=1;a.style.position='absolute';a.style.top=0;a.style.left=0;a.style.border='none';a.style.visibility='hidden';document.body.appendChild(a);if('loading'!==document.readyState)c();else if(window.addEventListener)document.addEventListener('DOMContentLoaded',c);else{var e=document.onreadystatechange||function(){};document.onreadystatechange=function(b){e(b);'loading'!==document.readyState&&(document.onreadystatechange=e,c())}}}})();</script></body></html>\n",
      "2025-04-01 18:41:42,180 - 140086947489472 - __init__.py-__init__:219 - ERROR: Failed to export batch code: 404, reason: <!DOCTYPE html><html lang=\"en\"><head><meta charSet=\"utf-8\"/><meta name=\"viewport\" content=\"width=device-width\"/><meta name=\"next-head-count\" content=\"2\"/><link rel=\"preload\" href=\"/_next/static/css/0b9f113e135a0e79.css\" as=\"style\"/><link rel=\"stylesheet\" href=\"/_next/static/css/0b9f113e135a0e79.css\" data-n-g=\"\"/><noscript data-n-css=\"\"></noscript><script defer=\"\" nomodule=\"\" src=\"/_next/static/chunks/polyfills-42372ed130431b0a.js\"></script><script src=\"/_next/static/chunks/webpack-c91adb34796940e3.js\" defer=\"\"></script><script src=\"/_next/static/chunks/framework-c511aa5252cf0ba6.js\" defer=\"\"></script><script src=\"/_next/static/chunks/main-32b51fff0a416685.js\" defer=\"\"></script><script src=\"/_next/static/chunks/pages/_app-d5d8f035227b6c53.js\" defer=\"\"></script><script src=\"/_next/static/chunks/pages/_error-95ac29e5a92b4557.js\" defer=\"\"></script><script src=\"/_next/static/o4K4UwPwKRw-kuIWynpI1/_buildManifest.js\" defer=\"\"></script><script src=\"/_next/static/o4K4UwPwKRw-kuIWynpI1/_ssgManifest.js\" defer=\"\"></script></head><body><div id=\"__next\"><script>!function(){try{var d=document.documentElement,c=d.classList;c.remove('light','dark');var e=localStorage.getItem('theme');if('system'===e||(!e&&true)){var t='(prefers-color-scheme: dark)',m=window.matchMedia(t);if(m.media!==t||m.matches){d.style.colorScheme = 'dark';c.add('dark')}else{d.style.colorScheme = 'light';c.add('light')}}else if(e){c.add(e|| '')}if(e==='light'||e==='dark')d.style.colorScheme=e}catch(e){}}()</script><div class=\"flex min-h-full flex-1 flex-col justify-center py-12 sm:px-6 lg:px-8\" data-sentry-component=\"Spinner\" data-sentry-source-file=\"spinner.tsx\"><div class=\"sm:mx-auto sm:w-full sm:max-w-md\"><img src=\"/icon.svg\" width=\"42\" height=\"42\" alt=\"Langfuse Icon\" class=\"mx-auto motion-safe:animate-spin\" data-sentry-component=\"LangfuseIcon\" data-sentry-source-file=\"LangfuseLogo.tsx\"/><h2 class=\"mt-5 text-center text-2xl font-bold leading-9 tracking-tight text-primary\">Loading<!-- --> ...</h2></div></div><script src=\"https://uptime.betterstack.com/widgets/announcement.js\" data-id=\"189328\" async=\"\" type=\"text/javascript\" data-sentry-component=\"BetterStackUptimeStatusMessage\" data-sentry-source-file=\"_app.tsx\"></script> </div><script id=\"__NEXT_DATA__\" type=\"application/json\">{\"props\":{\"pageProps\":{\"statusCode\":404}},\"page\":\"/_error\",\"query\":{},\"buildId\":\"o4K4UwPwKRw-kuIWynpI1\",\"nextExport\":true,\"isFallback\":false,\"gip\":true,\"locale\":\"en\",\"locales\":[\"en\"],\"defaultLocale\":\"en\",\"scriptLoader\":[]}</script><script>(function(){function c(){var b=a.contentDocument||a.contentWindow.document;if(b){var d=b.createElement('script');d.innerHTML=\"window.__CF$cv$params={r:'929a38de49816b52',t:'MTc0MzUzMjkwMi4wMDAwMDA='};var a=document.createElement('script');a.nonce='';a.src='/cdn-cgi/challenge-platform/scripts/jsd/main.js';document.getElementsByTagName('head')[0].appendChild(a);\";b.getElementsByTagName('head')[0].appendChild(d)}}if(document.body){var a=document.createElement('iframe');a.height=1;a.width=1;a.style.position='absolute';a.style.top=0;a.style.left=0;a.style.border='none';a.style.visibility='hidden';document.body.appendChild(a);if('loading'!==document.readyState)c();else if(window.addEventListener)document.addEventListener('DOMContentLoaded',c);else{var e=document.onreadystatechange||function(){};document.onreadystatechange=function(b){e(b);'loading'!==document.readyState&&(document.onreadystatechange=e,c())}}}})();</script></body></html>\n",
      "2025-04-01 18:42:42,297 - 140086947489472 - __init__.py-__init__:219 - ERROR: Failed to export batch code: 404, reason: <!DOCTYPE html><html lang=\"en\"><head><meta charSet=\"utf-8\"/><meta name=\"viewport\" content=\"width=device-width\"/><meta name=\"next-head-count\" content=\"2\"/><link rel=\"preload\" href=\"/_next/static/css/0b9f113e135a0e79.css\" as=\"style\"/><link rel=\"stylesheet\" href=\"/_next/static/css/0b9f113e135a0e79.css\" data-n-g=\"\"/><noscript data-n-css=\"\"></noscript><script defer=\"\" nomodule=\"\" src=\"/_next/static/chunks/polyfills-42372ed130431b0a.js\"></script><script src=\"/_next/static/chunks/webpack-c91adb34796940e3.js\" defer=\"\"></script><script src=\"/_next/static/chunks/framework-c511aa5252cf0ba6.js\" defer=\"\"></script><script src=\"/_next/static/chunks/main-32b51fff0a416685.js\" defer=\"\"></script><script src=\"/_next/static/chunks/pages/_app-d5d8f035227b6c53.js\" defer=\"\"></script><script src=\"/_next/static/chunks/pages/_error-95ac29e5a92b4557.js\" defer=\"\"></script><script src=\"/_next/static/o4K4UwPwKRw-kuIWynpI1/_buildManifest.js\" defer=\"\"></script><script src=\"/_next/static/o4K4UwPwKRw-kuIWynpI1/_ssgManifest.js\" defer=\"\"></script></head><body><div id=\"__next\"><script>!function(){try{var d=document.documentElement,c=d.classList;c.remove('light','dark');var e=localStorage.getItem('theme');if('system'===e||(!e&&true)){var t='(prefers-color-scheme: dark)',m=window.matchMedia(t);if(m.media!==t||m.matches){d.style.colorScheme = 'dark';c.add('dark')}else{d.style.colorScheme = 'light';c.add('light')}}else if(e){c.add(e|| '')}if(e==='light'||e==='dark')d.style.colorScheme=e}catch(e){}}()</script><div class=\"flex min-h-full flex-1 flex-col justify-center py-12 sm:px-6 lg:px-8\" data-sentry-component=\"Spinner\" data-sentry-source-file=\"spinner.tsx\"><div class=\"sm:mx-auto sm:w-full sm:max-w-md\"><img src=\"/icon.svg\" width=\"42\" height=\"42\" alt=\"Langfuse Icon\" class=\"mx-auto motion-safe:animate-spin\" data-sentry-component=\"LangfuseIcon\" data-sentry-source-file=\"LangfuseLogo.tsx\"/><h2 class=\"mt-5 text-center text-2xl font-bold leading-9 tracking-tight text-primary\">Loading<!-- --> ...</h2></div></div><script src=\"https://uptime.betterstack.com/widgets/announcement.js\" data-id=\"189328\" async=\"\" type=\"text/javascript\" data-sentry-component=\"BetterStackUptimeStatusMessage\" data-sentry-source-file=\"_app.tsx\"></script> </div><script id=\"__NEXT_DATA__\" type=\"application/json\">{\"props\":{\"pageProps\":{\"statusCode\":404}},\"page\":\"/_error\",\"query\":{},\"buildId\":\"o4K4UwPwKRw-kuIWynpI1\",\"nextExport\":true,\"isFallback\":false,\"gip\":true,\"locale\":\"en\",\"locales\":[\"en\"],\"defaultLocale\":\"en\",\"scriptLoader\":[]}</script><script>(function(){function c(){var b=a.contentDocument||a.contentWindow.document;if(b){var d=b.createElement('script');d.innerHTML=\"window.__CF$cv$params={r:'929a3a55fbc46b52',t:'MTc0MzUzMjk2Mi4wMDAwMDA='};var a=document.createElement('script');a.nonce='';a.src='/cdn-cgi/challenge-platform/scripts/jsd/main.js';document.getElementsByTagName('head')[0].appendChild(a);\";b.getElementsByTagName('head')[0].appendChild(d)}}if(document.body){var a=document.createElement('iframe');a.height=1;a.width=1;a.style.position='absolute';a.style.top=0;a.style.left=0;a.style.border='none';a.style.visibility='hidden';document.body.appendChild(a);if('loading'!==document.readyState)c();else if(window.addEventListener)document.addEventListener('DOMContentLoaded',c);else{var e=document.onreadystatechange||function(){};document.onreadystatechange=function(b){e(b);'loading'!==document.readyState&&(document.onreadystatechange=e,c())}}}})();</script></body></html>\n",
      "2025-04-01 18:43:42,396 - 140086947489472 - __init__.py-__init__:219 - ERROR: Failed to export batch code: 404, reason: <!DOCTYPE html><html lang=\"en\"><head><meta charSet=\"utf-8\"/><meta name=\"viewport\" content=\"width=device-width\"/><meta name=\"next-head-count\" content=\"2\"/><link rel=\"preload\" href=\"/_next/static/css/0b9f113e135a0e79.css\" as=\"style\"/><link rel=\"stylesheet\" href=\"/_next/static/css/0b9f113e135a0e79.css\" data-n-g=\"\"/><noscript data-n-css=\"\"></noscript><script defer=\"\" nomodule=\"\" src=\"/_next/static/chunks/polyfills-42372ed130431b0a.js\"></script><script src=\"/_next/static/chunks/webpack-c91adb34796940e3.js\" defer=\"\"></script><script src=\"/_next/static/chunks/framework-c511aa5252cf0ba6.js\" defer=\"\"></script><script src=\"/_next/static/chunks/main-32b51fff0a416685.js\" defer=\"\"></script><script src=\"/_next/static/chunks/pages/_app-d5d8f035227b6c53.js\" defer=\"\"></script><script src=\"/_next/static/chunks/pages/_error-95ac29e5a92b4557.js\" defer=\"\"></script><script src=\"/_next/static/o4K4UwPwKRw-kuIWynpI1/_buildManifest.js\" defer=\"\"></script><script src=\"/_next/static/o4K4UwPwKRw-kuIWynpI1/_ssgManifest.js\" defer=\"\"></script></head><body><div id=\"__next\"><script>!function(){try{var d=document.documentElement,c=d.classList;c.remove('light','dark');var e=localStorage.getItem('theme');if('system'===e||(!e&&true)){var t='(prefers-color-scheme: dark)',m=window.matchMedia(t);if(m.media!==t||m.matches){d.style.colorScheme = 'dark';c.add('dark')}else{d.style.colorScheme = 'light';c.add('light')}}else if(e){c.add(e|| '')}if(e==='light'||e==='dark')d.style.colorScheme=e}catch(e){}}()</script><div class=\"flex min-h-full flex-1 flex-col justify-center py-12 sm:px-6 lg:px-8\" data-sentry-component=\"Spinner\" data-sentry-source-file=\"spinner.tsx\"><div class=\"sm:mx-auto sm:w-full sm:max-w-md\"><img src=\"/icon.svg\" width=\"42\" height=\"42\" alt=\"Langfuse Icon\" class=\"mx-auto motion-safe:animate-spin\" data-sentry-component=\"LangfuseIcon\" data-sentry-source-file=\"LangfuseLogo.tsx\"/><h2 class=\"mt-5 text-center text-2xl font-bold leading-9 tracking-tight text-primary\">Loading<!-- --> ...</h2></div></div><script src=\"https://uptime.betterstack.com/widgets/announcement.js\" data-id=\"189328\" async=\"\" type=\"text/javascript\" data-sentry-component=\"BetterStackUptimeStatusMessage\" data-sentry-source-file=\"_app.tsx\"></script> </div><script id=\"__NEXT_DATA__\" type=\"application/json\">{\"props\":{\"pageProps\":{\"statusCode\":404}},\"page\":\"/_error\",\"query\":{},\"buildId\":\"o4K4UwPwKRw-kuIWynpI1\",\"nextExport\":true,\"isFallback\":false,\"gip\":true,\"locale\":\"en\",\"locales\":[\"en\"],\"defaultLocale\":\"en\",\"scriptLoader\":[]}</script><script>(function(){function c(){var b=a.contentDocument||a.contentWindow.document;if(b){var d=b.createElement('script');d.innerHTML=\"window.__CF$cv$params={r:'929a3bcdbc526b52',t:'MTc0MzUzMzAyMi4wMDAwMDA='};var a=document.createElement('script');a.nonce='';a.src='/cdn-cgi/challenge-platform/scripts/jsd/main.js';document.getElementsByTagName('head')[0].appendChild(a);\";b.getElementsByTagName('head')[0].appendChild(d)}}if(document.body){var a=document.createElement('iframe');a.height=1;a.width=1;a.style.position='absolute';a.style.top=0;a.style.left=0;a.style.border='none';a.style.visibility='hidden';document.body.appendChild(a);if('loading'!==document.readyState)c();else if(window.addEventListener)document.addEventListener('DOMContentLoaded',c);else{var e=document.onreadystatechange||function(){};document.onreadystatechange=function(b){e(b);'loading'!==document.readyState&&(document.onreadystatechange=e,c())}}}})();</script></body></html>\n",
      "2025-04-01 18:44:42,527 - 140086947489472 - __init__.py-__init__:219 - ERROR: Failed to export batch code: 404, reason: <!DOCTYPE html><html lang=\"en\"><head><meta charSet=\"utf-8\"/><meta name=\"viewport\" content=\"width=device-width\"/><meta name=\"next-head-count\" content=\"2\"/><link rel=\"preload\" href=\"/_next/static/css/0b9f113e135a0e79.css\" as=\"style\"/><link rel=\"stylesheet\" href=\"/_next/static/css/0b9f113e135a0e79.css\" data-n-g=\"\"/><noscript data-n-css=\"\"></noscript><script defer=\"\" nomodule=\"\" src=\"/_next/static/chunks/polyfills-42372ed130431b0a.js\"></script><script src=\"/_next/static/chunks/webpack-c91adb34796940e3.js\" defer=\"\"></script><script src=\"/_next/static/chunks/framework-c511aa5252cf0ba6.js\" defer=\"\"></script><script src=\"/_next/static/chunks/main-32b51fff0a416685.js\" defer=\"\"></script><script src=\"/_next/static/chunks/pages/_app-d5d8f035227b6c53.js\" defer=\"\"></script><script src=\"/_next/static/chunks/pages/_error-95ac29e5a92b4557.js\" defer=\"\"></script><script src=\"/_next/static/o4K4UwPwKRw-kuIWynpI1/_buildManifest.js\" defer=\"\"></script><script src=\"/_next/static/o4K4UwPwKRw-kuIWynpI1/_ssgManifest.js\" defer=\"\"></script></head><body><div id=\"__next\"><script>!function(){try{var d=document.documentElement,c=d.classList;c.remove('light','dark');var e=localStorage.getItem('theme');if('system'===e||(!e&&true)){var t='(prefers-color-scheme: dark)',m=window.matchMedia(t);if(m.media!==t||m.matches){d.style.colorScheme = 'dark';c.add('dark')}else{d.style.colorScheme = 'light';c.add('light')}}else if(e){c.add(e|| '')}if(e==='light'||e==='dark')d.style.colorScheme=e}catch(e){}}()</script><div class=\"flex min-h-full flex-1 flex-col justify-center py-12 sm:px-6 lg:px-8\" data-sentry-component=\"Spinner\" data-sentry-source-file=\"spinner.tsx\"><div class=\"sm:mx-auto sm:w-full sm:max-w-md\"><img src=\"/icon.svg\" width=\"42\" height=\"42\" alt=\"Langfuse Icon\" class=\"mx-auto motion-safe:animate-spin\" data-sentry-component=\"LangfuseIcon\" data-sentry-source-file=\"LangfuseLogo.tsx\"/><h2 class=\"mt-5 text-center text-2xl font-bold leading-9 tracking-tight text-primary\">Loading<!-- --> ...</h2></div></div><script src=\"https://uptime.betterstack.com/widgets/announcement.js\" data-id=\"189328\" async=\"\" type=\"text/javascript\" data-sentry-component=\"BetterStackUptimeStatusMessage\" data-sentry-source-file=\"_app.tsx\"></script> </div><script id=\"__NEXT_DATA__\" type=\"application/json\">{\"props\":{\"pageProps\":{\"statusCode\":404}},\"page\":\"/_error\",\"query\":{},\"buildId\":\"o4K4UwPwKRw-kuIWynpI1\",\"nextExport\":true,\"isFallback\":false,\"gip\":true,\"locale\":\"en\",\"locales\":[\"en\"],\"defaultLocale\":\"en\",\"scriptLoader\":[]}</script><script>(function(){function c(){var b=a.contentDocument||a.contentWindow.document;if(b){var d=b.createElement('script');d.innerHTML=\"window.__CF$cv$params={r:'929a3d455fcf6b52',t:'MTc0MzUzMzA4Mi4wMDAwMDA='};var a=document.createElement('script');a.nonce='';a.src='/cdn-cgi/challenge-platform/scripts/jsd/main.js';document.getElementsByTagName('head')[0].appendChild(a);\";b.getElementsByTagName('head')[0].appendChild(d)}}if(document.body){var a=document.createElement('iframe');a.height=1;a.width=1;a.style.position='absolute';a.style.top=0;a.style.left=0;a.style.border='none';a.style.visibility='hidden';document.body.appendChild(a);if('loading'!==document.readyState)c();else if(window.addEventListener)document.addEventListener('DOMContentLoaded',c);else{var e=document.onreadystatechange||function(){};document.onreadystatechange=function(b){e(b);'loading'!==document.readyState&&(document.onreadystatechange=e,c())}}}})();</script></body></html>\n"
     ]
    }
   ],
   "source": [
    "observability = True\n",
    "if observability :\n",
    "    import asyncio\n",
    "import logging\n",
    "\n",
    "from opentelemetry._logs import set_logger_provider\n",
    "from opentelemetry.exporter.otlp.proto.grpc._log_exporter import OTLPLogExporter\n",
    "from opentelemetry.exporter.otlp.proto.grpc.metric_exporter import OTLPMetricExporter\n",
    "from opentelemetry.exporter.otlp.proto.grpc.trace_exporter import OTLPSpanExporter\n",
    "from opentelemetry.metrics import set_meter_provider\n",
    "from opentelemetry.sdk._logs import LoggerProvider, LoggingHandler\n",
    "from opentelemetry.sdk._logs.export import BatchLogRecordProcessor\n",
    "from opentelemetry.sdk.metrics import MeterProvider\n",
    "from opentelemetry.sdk.metrics.export import PeriodicExportingMetricReader\n",
    "from opentelemetry.sdk.metrics.view import DropAggregation, View\n",
    "from opentelemetry.sdk.resources import Resource\n",
    "from opentelemetry.sdk.trace import TracerProvider\n",
    "from opentelemetry.sdk.trace.export import BatchSpanProcessor\n",
    "from opentelemetry.semconv.resource import ResourceAttributes\n",
    "from opentelemetry.trace import set_tracer_provider\n",
    "\n",
    "\n",
    "\n",
    "\n",
    "# Endpoint to the Aspire Dashboard\n",
    "endpoint = \"http://localhost:4317\"\n",
    "\n",
    "# Create a resource to represent the service/sample\n",
    "resource = Resource.create({ResourceAttributes.SERVICE_NAME: \"telemetry-aspire-dashboard-quickstart\"})\n",
    "\n",
    "\n",
    "def set_up_logging():\n",
    "    exporter = OTLPLogExporter(endpoint=endpoint)\n",
    "\n",
    "    # Create and set a global logger provider for the application.\n",
    "    logger_provider = LoggerProvider(resource=resource)\n",
    "    # Log processors are initialized with an exporter which is responsible\n",
    "    # for sending the telemetry data to a particular backend.\n",
    "    logger_provider.add_log_record_processor(BatchLogRecordProcessor(exporter))\n",
    "    # Sets the global default logger provider\n",
    "    set_logger_provider(logger_provider)\n",
    "\n",
    "    # Create a logging handler to write logging records, in OTLP format, to the exporter.\n",
    "    handler = LoggingHandler()\n",
    "    # Add filters to the handler to only process records from semantic_kernel.\n",
    "    handler.addFilter(logging.Filter(\"semantic_kernel\"))\n",
    "    # Attach the handler to the root logger. `getLogger()` with no arguments returns the root logger.\n",
    "    # Events from all child loggers will be processed by this handler.\n",
    "    logger = logging.getLogger()\n",
    "    logger.addHandler(handler)\n",
    "    logger.setLevel(logging.INFO)\n",
    "\n",
    "\n",
    "def set_up_tracing():\n",
    "    exporter = OTLPSpanExporter(endpoint=endpoint)\n",
    "\n",
    "    # Initialize a trace provider for the application. This is a factory for creating tracers.\n",
    "    tracer_provider = TracerProvider(resource=resource)\n",
    "    # Span processors are initialized with an exporter which is responsible\n",
    "    # for sending the telemetry data to a particular backend.\n",
    "    tracer_provider.add_span_processor(BatchSpanProcessor(exporter))\n",
    "    # Sets the global default tracer provider\n",
    "    set_tracer_provider(tracer_provider)\n",
    "\n",
    "\n",
    "def set_up_metrics():\n",
    "    exporter = OTLPMetricExporter(endpoint=endpoint)\n",
    "\n",
    "    # Initialize a metric provider for the application. This is a factory for creating meters.\n",
    "    meter_provider = MeterProvider(\n",
    "        metric_readers=[PeriodicExportingMetricReader(exporter, export_interval_millis=5000)],\n",
    "        resource=resource,\n",
    "        views=[\n",
    "            # Dropping all instrument names except for those starting with \"semantic_kernel\"\n",
    "            View(instrument_name=\"*\", aggregation=DropAggregation()),\n",
    "            View(instrument_name=\"semantic_kernel*\"),\n",
    "        ],\n",
    "    )\n",
    "    # Sets the global default meter provider\n",
    "    set_meter_provider(meter_provider)\n",
    "\n",
    "\n",
    "# This must be done before any other telemetry calls\n",
    "set_up_logging()\n",
    "set_up_tracing()\n",
    "set_up_metrics()\n",
    "\n",
    "\n",
    "\n",
    "  "
   ]
  },
  {
   "cell_type": "code",
   "execution_count": 60,
   "metadata": {},
   "outputs": [],
   "source": [
    "class SocialMediaPost(BaseModel):\n",
    "    platform: str = Field(..., description=\"The social media platform where the post will be published (e.g., Twitter, LinkedIn).\")\n",
    "    content: str = Field(..., description=\"The content of the social media post, including any hashtags or mentions.\")\n",
    "\n",
    "class Article(BaseModel):\n",
    "    title: str\n",
    "    content: str\n",
    "    call_to_action: str\n",
    "\n",
    "class ContentOutput(BaseModel):\n",
    "    article: Article\n",
    "    social_media_posts: List[SocialMediaPost]"
   ]
  },
  {
   "cell_type": "code",
   "execution_count": 61,
   "metadata": {},
   "outputs": [],
   "source": [
    "service_id: str = \"default_service_id\"\n",
    "def create_kernel(service_id= service_id) -> Kernel:\n",
    "    kernel = Kernel()\n",
    "    kernel.add_service(AzureChatCompletion(service_id=service_id))\n",
    "\n",
    "\n",
    "    return kernel\n",
    "\n",
    "kernel = create_kernel()"
   ]
  },
  {
   "cell_type": "code",
   "execution_count": 62,
   "metadata": {},
   "outputs": [],
   "source": [
    "from agent_instructions import (\n",
    "    MARKET_NEWS_MONITOR_AGENT_INSTRUCTIONS,\n",
    "    DATA_ANALYST_AGENT_INSTRUCTIONS,\n",
    "    CONTENT_CREATOR_AGENT_INSTRUCTIONS,\n",
    "    QUALITY_ASSURANCE_AGENT_INSTRUCTIONS,\n",
    ")\n",
    "\n",
    "def format_instruction(instruction_template: str, subject: str) -> str:\n",
    "    return instruction_template.format(subject=subject)\n",
    "\n",
    "subject = \"Inflation in the US and the impact on the stock market in 2024\"\n",
    "\n",
    "market_news_instr = format_instruction(MARKET_NEWS_MONITOR_AGENT_INSTRUCTIONS, subject)\n",
    "data_analyst_instr = format_instruction(DATA_ANALYST_AGENT_INSTRUCTIONS, subject)\n",
    "content_creator_instr = format_instruction(CONTENT_CREATOR_AGENT_INSTRUCTIONS, subject)\n",
    "quality_assurance_instr = format_instruction(QUALITY_ASSURANCE_AGENT_INSTRUCTIONS, subject)\n"
   ]
  },
  {
   "cell_type": "code",
   "execution_count": 63,
   "metadata": {},
   "outputs": [],
   "source": [
    "# google_scraper_plugin.py\n",
    "from semantic_kernel.functions import kernel_function\n",
    "from googleapiclient.discovery import build\n",
    "import requests\n",
    "from bs4 import BeautifulSoup\n",
    "from typing import List\n",
    "import os\n",
    "\n",
    "class WebScraperPlugin:\n",
    "    def __init__(self, api_key: str, cse_id: str):\n",
    "        self.api_key = api_key\n",
    "        self.cse_id = cse_id\n",
    "\n",
    "    @kernel_function(\n",
    "        name=\"google_search\",\n",
    "        description=\"Performs a Google search and returns a list of URLs related to the query.\"\n",
    "    )\n",
    "    async def google_search(self, query: str, num_results: int = 5) -> List[str]:\n",
    "        service = build(\"customsearch\", \"v1\", developerKey=self.api_key)\n",
    "        res = service.cse().list(q=query, cx=self.cse_id, num=num_results).execute()\n",
    "        urls = [item['link'] for item in res.get(\"items\", [])]\n",
    "        return urls\n",
    "\n",
    "    @kernel_function(\n",
    "        name=\"scrape_url\",\n",
    "        description=\"Scrapes a given URL and returns the title and the first few paragraphs of text.\"\n",
    "    )\n",
    "    async def scrape_url(self, url: str) -> dict:\n",
    "        try:\n",
    "            headers = {\n",
    "                \"User-Agent\": \"Mozilla/5.0 (Windows NT 10.0; Win64; x64)\"\n",
    "            }\n",
    "            response = requests.get(url, headers=headers, timeout=10)\n",
    "            response.raise_for_status()\n",
    "            soup = BeautifulSoup(response.text, \"html.parser\")\n",
    "\n",
    "            title = soup.title.string.strip() if soup.title else \"No Title\"\n",
    "            paragraphs = soup.find_all(\"p\")\n",
    "            text_content = \"\\n\".join(p.get_text(strip=True) for p in paragraphs[:3])  # First 3 paragraphs\n",
    "\n",
    "            return {\n",
    "                \"url\": url,\n",
    "                \"title\": title,\n",
    "                \"text\": text_content\n",
    "            }\n",
    "        except Exception as e:\n",
    "            return {\n",
    "                \"url\": url,\n",
    "                \"error\": str(e)\n",
    "            }\n",
    "\n",
    "web_scraper_tool = WebScraperPlugin(\n",
    "    api_key=os.getenv(\"GOOGLE_API_KEY\"),\n",
    "    cse_id=os.getenv(\"GOOGLE_SEARCH_ENGINE_ID\")\n",
    ")\n"
   ]
  },
  {
   "cell_type": "code",
   "execution_count": 64,
   "metadata": {},
   "outputs": [],
   "source": [
    "selection_function = KernelFunctionFromPrompt(\n",
    "    function_name=\"selection\",\n",
    "    prompt=\"\"\"\n",
    "    Based on the conversation history, determine the next agent to take a turn. \n",
    "    Only return the name of the agent from the following list:\n",
    "    - MarketNewsMonitor\n",
    "    - DataAnalyst\n",
    "    - ContentCreator\n",
    "    - ContentOfficer\n",
    "\n",
    "    Rules:\n",
    "    - MarketNewsMonitor starts first.\n",
    "    - After MarketNewsMonitor, DataAnalyst speaks.\n",
    "    - After DataAnalyst, ContentCreator speaks.\n",
    "    - After ContentCreator, ContentOfficer speaks.\n",
    "    - If ContentOfficer requests changes, restart the cycle with MarketNewsMonitor.\n",
    "\n",
    "    History:\n",
    "    {{$history}}\n",
    "    \"\"\",\n",
    ")"
   ]
  },
  {
   "cell_type": "code",
   "execution_count": 65,
   "metadata": {},
   "outputs": [],
   "source": [
    "termination_function = KernelFunctionFromPrompt(\n",
    "    function_name=\"termination\",\n",
    "    prompt=\"\"\"\n",
    "    Determine if the structured content output (article and social_media_posts) is complete and valid JSON. \n",
    "    If the output is complete and valid, respond with \"yes\". Otherwise, respond with \"no\".\n",
    "\n",
    "    History:\n",
    "    {{$history}}\n",
    "    \"\"\"\n",
    ")"
   ]
  },
  {
   "cell_type": "code",
   "execution_count": 66,
   "metadata": {},
   "outputs": [],
   "source": [
    "output_settings = AzureChatPromptExecutionSettings(response_format=ContentOutput)\n"
   ]
  },
  {
   "cell_type": "code",
   "execution_count": 67,
   "metadata": {},
   "outputs": [],
   "source": [
    "market_news_agent = ChatCompletionAgent(kernel=kernel,\n",
    "                                         name=\"MarketNewsMonitor\",\n",
    "                                           instructions=market_news_instr,\n",
    "                                            plugins=[web_scraper_tool]\n",
    "                                           )\n",
    "data_analyst_agent = ChatCompletionAgent(kernel=kernel, \n",
    "                                         name=\"DataAnalyst\",\n",
    "                                          instructions=data_analyst_instr,\n",
    "                                          plugins=[web_scraper_tool])\n",
    "content_creator_agent = ChatCompletionAgent(kernel=kernel, name=\"ContentCreator\", instructions=content_creator_instr)\n",
    "quality_assurance_agent = ChatCompletionAgent(kernel=kernel,\n",
    "                                                 name=\"ContentOfficer\",\n",
    "                                                 instructions=quality_assurance_instr,\n",
    "                                                 arguments=KernelArguments(settings=output_settings))\n",
    "\n",
    "agent_group = AgentGroupChat(\n",
    "    agents=[market_news_agent, data_analyst_agent, content_creator_agent, quality_assurance_agent],\n",
    "    termination_strategy = KernelFunctionTerminationStrategy(\n",
    "        agents=[quality_assurance_agent],\n",
    "        function=termination_function,\n",
    "        kernel=kernel,\n",
    "        result_parser=lambda result: any(\"yes\" in item.content.lower() for item in result.value) if isinstance(result.value, list) else \"yes\" in result.value.content.lower(),\n",
    "        history_variable_name=\"history\",\n",
    "        maximum_iterations=10\n",
    "    ),\n",
    "    selection_strategy=KernelFunctionSelectionStrategy(\n",
    "        function=selection_function,\n",
    "        kernel=kernel,\n",
    "        result_parser=lambda result: result.value[0].content.strip() if isinstance(result.value, list) and result.value else result.value.content.strip(),\n",
    "        agent_variable_name=\"agents\",\n",
    "        history_variable_name=\"history\"\n",
    "    )\n",
    ")"
   ]
  },
  {
   "cell_type": "code",
   "execution_count": 68,
   "metadata": {},
   "outputs": [],
   "source": [
    "async def main(subject: str):\n",
    "\n",
    "    initial_message = f\"Subject: {subject}\\n\\nCollaborate to produce structured content output matching the provided schema.\"\n",
    "    await agent_group.add_chat_message(message=initial_message)\n",
    "\n",
    "    final_response = \"\"\n",
    "    async for content in agent_group.invoke():\n",
    "        print(f\"# {content.name}: {content.content}\\n\")\n",
    "        final_response = content.content\n",
    "\n",
    "    return final_response"
   ]
  },
  {
   "cell_type": "code",
   "execution_count": 69,
   "metadata": {},
   "outputs": [
    {
     "name": "stderr",
     "output_type": "stream",
     "text": [
      "2025-04-01 18:38:52,113 - 140088696608000 - __init__.py-__init__:100 - WARNING: Invalid type NoneType for attribute 'gen_ai.response.service_tier' value. Expected one of ['bool', 'str', 'bytes', 'int', 'float'] or a sequence of those types\n",
      "2025-04-01 18:38:54,432 - 140088696608000 - __init__.py-__init__:100 - WARNING: Invalid type NoneType for attribute 'gen_ai.response.service_tier' value. Expected one of ['bool', 'str', 'bytes', 'int', 'float'] or a sequence of those types\n",
      "2025-04-01 18:38:59,404 - 140088696608000 - async_openai.py-async_openai:875 - ERROR: Error in trace creation: 'content'\n",
      "2025-04-01 18:39:19,062 - 140088696608000 - async_openai.py-async_openai:875 - ERROR: Error in trace creation: 'content'\n"
     ]
    },
    {
     "name": "stdout",
     "output_type": "stream",
     "text": [
      "# MarketNewsMonitor: ### Detailed Summary Report: Inflation in the US and the Impact on the Stock Market in 2024\n",
      "\n",
      "#### Overview\n",
      "The ongoing dynamics of US inflation and their anticipated impact on the stock market in 2024 present a complex financial landscape influenced by rising interest rates and the potential for new tariff implementations. Below, we distill key insights from recent analyses, revealing critical considerations investors must weigh as they navigate these economic conditions.\n",
      "\n",
      "#### Key Insights\n",
      "\n",
      "1. **Interest Rates and Stock Market Dynamics**\n",
      "   - **Source**: [U.S. Bank Article](https://www.usbank.com/investing/financial-perspectives/market-news/how-do-rising-interest-rates-affect-the-stock-market.html)\n",
      "   - **Date**: February 20, 2025\n",
      "   - **Summary**: Despite stabilizing interest rates, they remain at elevated levels, impacting stock valuations and investment strategies. Elevated rates typically increase borrowing costs for companies, which can dampen corporate earnings and affect stock prices negatively. Investors might need to recalibrate their portfolios, considering the sectors most resilient or benefiting from higher rate environments.\n",
      "\n",
      "2. **Tariffs Impact on US Stocks**\n",
      "   - **Source**: [Goldman Sachs Article](https://www.goldmansachs.com/insights/articles/how-tariffs-are-forecast-to-affect-us-stocks)\n",
      "   - **Summary**: Ongoing tariff negotiations pose risks to US stocks, with potential to materially influence corporate earnings, particularly those of companies within the S&P 500 Index. If tariffs similar to those proposed against China, Mexico, and Canada are implemented, earnings per share could be reduced by 2-3%. The broader economic impact includes a prospective rise in tariff rates by up to 10.5 percentage points, influencing sectors heavily reliant on international trade.\n",
      "\n",
      "#### Implications for the Market\n",
      "- **Inflation Driving Monetary Policies**: Continued vigilance on inflation rates will likely guide the Federal Reserve's monetary policy decisions, potentially leading to maintained or further increased interest rates. This can constrain liquidity and challenge growth sectors.\n",
      "- **Trade Policies as a Market Catalyst**: The resolution or escalation of international trade tensions remains a pivotal variable. Investors should consider hedging against trade policies or diversifying into less exposed sectors.\n",
      "- **Investment Strategy Adjustments**: Emphasis may shift toward defensive stocks, such as utilities and healthcare, which typically withstand interest rate hikes better than growth stocks. Additionally, investments in domestic-oriented companies may prove more insulated against international tariff repercussions.\n",
      "\n",
      "#### Content Strategy Recommendations\n",
      "- **Educational Content**: Develop engaging content about navigating high-interest rate environments, focusing on strategies to mitigate inflation risks.\n",
      "- **Live Updates**: Provide real-time news coverage on tariff negotiations and Federal Reserve announcements impacting inflation and interest rates.\n",
      "- **Data Analysis Features**: Introduce analytical pieces interpreting economic indicators and their predictive influence on future market performance, fostering informed investment decisions among readers.\n",
      "\n",
      "This synthesized information underscores the dual focus of inflation and tariffs as central themes influencing the US stock market's trajectory in 2024. It suggests forward-thinking approaches for investors and aligns content strategies to reflect these evolving trends.\n",
      "\n"
     ]
    },
    {
     "name": "stderr",
     "output_type": "stream",
     "text": [
      "2025-04-01 18:39:26,999 - 140088696608000 - __init__.py-__init__:100 - WARNING: Invalid type NoneType for attribute 'gen_ai.response.service_tier' value. Expected one of ['bool', 'str', 'bytes', 'int', 'float'] or a sequence of those types\n",
      "2025-04-01 18:39:38,458 - 140088696608000 - async_openai.py-async_openai:875 - ERROR: Error in trace creation: 'content'\n"
     ]
    },
    {
     "name": "stdout",
     "output_type": "stream",
     "text": [
      "# DataAnalyst: To explore the data visualizations and resources that accompany this report, please refer to the following articles:\n",
      "\n",
      "- **U.S. Bank Article on Interest Rates**: [Read Here](https://www.usbank.com/investing/financial-perspectives/market-news/how-do-rising-interest-rates-affect-the-stock-market.html).\n",
      "- **Goldman Sachs Article on Tariffs**: [Read Here](https://www.goldmansachs.com/insights/articles/how-tariffs-are-forecast-to-affect-us-stocks).\n",
      "\n",
      "These insights will help guide your understanding and approach the content creation strategy effectively in relation to U.S. inflation and stock market impacts in 2024.\n",
      "\n"
     ]
    },
    {
     "name": "stderr",
     "output_type": "stream",
     "text": [
      "2025-04-01 18:39:39,672 - 140088696608000 - __init__.py-__init__:100 - WARNING: Invalid type NoneType for attribute 'gen_ai.response.service_tier' value. Expected one of ['bool', 'str', 'bytes', 'int', 'float'] or a sequence of those types\n",
      "2025-04-01 18:39:55,602 - 140088696608000 - async_openai.py-async_openai:875 - ERROR: Error in trace creation: 'content'\n"
     ]
    },
    {
     "name": "stdout",
     "output_type": "stream",
     "text": [
      "# ContentCreator: ### Blog Post Draft: Navigating the Inflation Wave in 2024\n",
      "\n",
      "#### Title: Understanding the Looming Impact of U.S. Inflation on the Stock Market in 2024\n",
      "\n",
      "As we sail into 2024, investors are turning their eyes towards key economic signifiers to navigate the uncertain waters of the stock market. Two critical phenomena stand out: persistent inflation and the evolving landscape of international trade tariffs.\n",
      "\n",
      "**Inflation Dynamics**\n",
      "\n",
      "Interest rates have been a focal point in the current economic dialogue. Insights from a recent [U.S. Bank article](https://www.usbank.com/investing/financial-perspectives/market-news/how-do-rising-interest-rates-affect-the-stock-market.html) indicate that, although interest rates have stabilized, they remain significantly elevated. This elevation impacts borrowing costs across industries, crucially affecting companies' earnings. Investors should remain vigilant, as these elevated rates can swiftly alter stock market dynamics, particularly in sectors traditionally resilient to such financial climates.\n",
      "\n",
      "**Tariffs and International Trade**\n",
      "\n",
      "Meanwhile, tariffs continue to play a pivotal role in shaping the stock market landscape. According to a [Goldman Sachs analysis](https://www.goldmansachs.com/insights/articles/how-tariffs-are-forecast-to-affect-us-stocks), proposed tariffs have the power to chip away at the earnings of major U.S. companies significantly. The possibility of new tariffs affecting North American and European trade could severely alter corporate strategies, requiring a recalibration of global market priorities and increasing the effective tariff rate substantially.\n",
      "\n",
      "**Mitigating Strategies for Investors**\n",
      "\n",
      "For investors, strategic adjustments are imperative:\n",
      "- **Interest Rate Resilience**: Focus on sectors such as utilities and healthcare, which traditionally withstand rate hikes.\n",
      "- **Diversified Portfolios**: Consider diversifying into domestic-oriented companies less vulnerable to international tariff policies.\n",
      "- **Hedging Trade Risks**: Implement hedging structures to mitigate potential adverse impacts from ongoing trade negotiations.\n",
      "\n",
      "**Conclusion**\n",
      "\n",
      "As we look ahead, staying informed and adapting investment strategies will be vital for navigating the challenges inflation and trade tariffs pose. Proactive measures and an informed understanding of these macroeconomic forces can empower investors to make strategic decisions that bolster confidence and foster growth in their investment portfolios in 2024.\n",
      "\n",
      "### Social Media Updates\n",
      "\n",
      "**Twitter/X Post:**\n",
      "🔍 Discover how US inflation dynamics and interest rate changes are setting the stage for 2024's stock market movements. Insightful analysis reveals pathways for strategic investment. [Link to Blog Post]\n",
      "\n",
      "**LinkedIn Update:**\n",
      "In 2024, US inflation and tariff negotiations are key factors shaping stock market trends. Explore our in-depth analysis of how these forces can impact your portfolio and strategic opportunities to leverage these changes for growth. [Link to Blog Post]\n",
      "\n",
      "**Instagram Story:**\n",
      "Swipe up to dive deep into how inflation and tariffs are influencing the US stock market in 2024. Stay ahead with strategic insights and recommendations. [Link to Blog Post]\n",
      "\n",
      "**Facebook Post:**\n",
      "As we step into 2024, understanding the intersecting influences of inflation and international tariffs on the US stock market is crucial. Our latest blog post brings you comprehensive insights and actionable recommendations to help steer your investment strategies. [Link to Blog Post]\n",
      "\n",
      "---\n",
      "\n",
      "These content pieces aim to educate and engage our audience while aligning with the evolving economic variables. By seamlessly integrating data and narrative, we ensure that our audience remains informed and prepared for the financial year ahead.\n",
      "\n"
     ]
    },
    {
     "name": "stderr",
     "output_type": "stream",
     "text": [
      "2025-04-01 18:39:56,648 - 140088696608000 - __init__.py-__init__:100 - WARNING: Invalid type NoneType for attribute 'gen_ai.response.service_tier' value. Expected one of ['bool', 'str', 'bytes', 'int', 'float'] or a sequence of those types\n",
      "2025-04-01 18:40:09,534 - 140088696608000 - async_openai.py-async_openai:875 - ERROR: Error in trace creation: 'content'\n",
      "2025-04-01 18:40:10,621 - 140088696608000 - __init__.py-__init__:100 - WARNING: Invalid type NoneType for attribute 'gen_ai.response.service_tier' value. Expected one of ['bool', 'str', 'bytes', 'int', 'float'] or a sequence of those types\n"
     ]
    },
    {
     "name": "stdout",
     "output_type": "stream",
     "text": [
      "# ContentOfficer: {\"article\":{\"title\":\"Understanding the Looming Impact of U.S. Inflation on the Stock Market in 2024\",\"content\":\"As we sail into 2024, investors are turning their eyes towards key economic signifiers to navigate the uncertain waters of the stock market. Two critical phenomena stand out: persistent inflation and the evolving landscape of international trade tariffs.\\n\\n#### Inflation Dynamics\\n\\nInterest rates have been a focal point in the current economic dialogue. Insights from a recent [U.S. Bank article](https://www.usbank.com/investing/financial-perspectives/market-news/how-do-rising-interest-rates-affect-the-stock-market.html) indicate that, although interest rates have stabilized, they remain significantly elevated. This elevation impacts borrowing costs across industries, crucially affecting companies' earnings. Investors should remain vigilant, as these elevated rates can swiftly alter stock market dynamics, particularly in sectors traditionally resilient to such financial climates.\\n\\n#### Tariffs and International Trade\\n\\nMeanwhile, tariffs continue to play a pivotal role in shaping the stock market landscape. According to a [Goldman Sachs analysis](https://www.goldmansachs.com/insights/articles/how-tariffs-are-forecast-to-affect-us-stocks), proposed tariffs have the power to chip away at the earnings of major U.S. companies significantly. The possibility of new tariffs affecting North American and European trade could severely alter corporate strategies, requiring a recalibration of global market priorities and increasing the effective tariff rate substantially.\\n\\n#### Mitigating Strategies for Investors\\n\\nFor investors, strategic adjustments are imperative:\\n- **Interest Rate Resilience**: Focus on sectors such as utilities and healthcare, which traditionally withstand rate hikes.\\n- **Diversified Portfolios**: Consider diversifying into domestic-oriented companies less vulnerable to international tariff policies.\\n- **Hedging Trade Risks**: Implement hedging structures to mitigate potential adverse impacts from ongoing trade negotiations.\\n\\n#### Conclusion\\n\\nAs we look ahead, staying informed and adapting investment strategies will be vital for navigating the challenges inflation and trade tariffs pose. Proactive measures and an informed understanding of these macroeconomic forces can empower investors to make strategic decisions that bolster confidence and foster growth in their investment portfolios in 2024.\",\"call_to_action\":\"Explore more insights and stay updated with our latest articles to adapt your investment strategies effectively.\"},\"social_media_posts\":[{\"platform\":\"Twitter\",\"content\":\"🔍 Discover how US inflation dynamics and interest rate changes are setting the stage for 2024's stock market movements. Insightful analysis reveals pathways for strategic investment. [Link to Blog Post]\"},{\"platform\":\"LinkedIn\",\"content\":\"In 2024, US inflation and tariff negotiations are key factors shaping stock market trends. Explore our in-depth analysis of how these forces can impact your portfolio and strategic opportunities to leverage these changes for growth. [Link to Blog Post]\"},{\"platform\":\"Instagram\",\"content\":\"Swipe up to dive deep into how inflation and tariffs are influencing the US stock market in 2024. Stay ahead with strategic insights and recommendations. [Link to Blog Post]\"},{\"platform\":\"Facebook\",\"content\":\"As we step into 2024, understanding the intersecting influences of inflation and international tariffs on the US stock market is crucial. Our latest blog post brings you comprehensive insights and actionable recommendations to help steer your investment strategies. [Link to Blog Post]\"}]}\n",
      "\n"
     ]
    }
   ],
   "source": [
    "final_output = await main(\"Inflation in the US and the impact on the stock market in 2024\")"
   ]
  },
  {
   "cell_type": "code",
   "execution_count": 70,
   "metadata": {},
   "outputs": [
    {
     "data": {
      "text/plain": [
       "'{\"article\":{\"title\":\"Understanding the Looming Impact of U.S. Inflation on the Stock Market in 2024\",\"content\":\"As we sail into 2024, investors are turning their eyes towards key economic signifiers to navigate the uncertain waters of the stock market. Two critical phenomena stand out: persistent inflation and the evolving landscape of international trade tariffs.\\\\n\\\\n#### Inflation Dynamics\\\\n\\\\nInterest rates have been a focal point in the current economic dialogue. Insights from a recent [U.S. Bank article](https://www.usbank.com/investing/financial-perspectives/market-news/how-do-rising-interest-rates-affect-the-stock-market.html) indicate that, although interest rates have stabilized, they remain significantly elevated. This elevation impacts borrowing costs across industries, crucially affecting companies\\' earnings. Investors should remain vigilant, as these elevated rates can swiftly alter stock market dynamics, particularly in sectors traditionally resilient to such financial climates.\\\\n\\\\n#### Tariffs and International Trade\\\\n\\\\nMeanwhile, tariffs continue to play a pivotal role in shaping the stock market landscape. According to a [Goldman Sachs analysis](https://www.goldmansachs.com/insights/articles/how-tariffs-are-forecast-to-affect-us-stocks), proposed tariffs have the power to chip away at the earnings of major U.S. companies significantly. The possibility of new tariffs affecting North American and European trade could severely alter corporate strategies, requiring a recalibration of global market priorities and increasing the effective tariff rate substantially.\\\\n\\\\n#### Mitigating Strategies for Investors\\\\n\\\\nFor investors, strategic adjustments are imperative:\\\\n- **Interest Rate Resilience**: Focus on sectors such as utilities and healthcare, which traditionally withstand rate hikes.\\\\n- **Diversified Portfolios**: Consider diversifying into domestic-oriented companies less vulnerable to international tariff policies.\\\\n- **Hedging Trade Risks**: Implement hedging structures to mitigate potential adverse impacts from ongoing trade negotiations.\\\\n\\\\n#### Conclusion\\\\n\\\\nAs we look ahead, staying informed and adapting investment strategies will be vital for navigating the challenges inflation and trade tariffs pose. Proactive measures and an informed understanding of these macroeconomic forces can empower investors to make strategic decisions that bolster confidence and foster growth in their investment portfolios in 2024.\",\"call_to_action\":\"Explore more insights and stay updated with our latest articles to adapt your investment strategies effectively.\"},\"social_media_posts\":[{\"platform\":\"Twitter\",\"content\":\"🔍 Discover how US inflation dynamics and interest rate changes are setting the stage for 2024\\'s stock market movements. Insightful analysis reveals pathways for strategic investment. [Link to Blog Post]\"},{\"platform\":\"LinkedIn\",\"content\":\"In 2024, US inflation and tariff negotiations are key factors shaping stock market trends. Explore our in-depth analysis of how these forces can impact your portfolio and strategic opportunities to leverage these changes for growth. [Link to Blog Post]\"},{\"platform\":\"Instagram\",\"content\":\"Swipe up to dive deep into how inflation and tariffs are influencing the US stock market in 2024. Stay ahead with strategic insights and recommendations. [Link to Blog Post]\"},{\"platform\":\"Facebook\",\"content\":\"As we step into 2024, understanding the intersecting influences of inflation and international tariffs on the US stock market is crucial. Our latest blog post brings you comprehensive insights and actionable recommendations to help steer your investment strategies. [Link to Blog Post]\"}]}'"
      ]
     },
     "execution_count": 70,
     "metadata": {},
     "output_type": "execute_result"
    }
   ],
   "source": [
    "final_output"
   ]
  },
  {
   "cell_type": "code",
   "execution_count": 71,
   "metadata": {},
   "outputs": [
    {
     "data": {
      "text/markdown": [
       "# Understanding the Looming Impact of U.S. Inflation on the Stock Market in 2024\n",
       "\n",
       "As we sail into 2024, investors are turning their eyes towards key economic signifiers to navigate the uncertain waters of the stock market. Two critical phenomena stand out: persistent inflation and the evolving landscape of international trade tariffs.\n",
       "\n",
       "#### Inflation Dynamics\n",
       "\n",
       "Interest rates have been a focal point in the current economic dialogue. Insights from a recent [U.S. Bank article](https://www.usbank.com/investing/financial-perspectives/market-news/how-do-rising-interest-rates-affect-the-stock-market.html) indicate that, although interest rates have stabilized, they remain significantly elevated. This elevation impacts borrowing costs across industries, crucially affecting companies' earnings. Investors should remain vigilant, as these elevated rates can swiftly alter stock market dynamics, particularly in sectors traditionally resilient to such financial climates.\n",
       "\n",
       "#### Tariffs and International Trade\n",
       "\n",
       "Meanwhile, tariffs continue to play a pivotal role in shaping the stock market landscape. According to a [Goldman Sachs analysis](https://www.goldmansachs.com/insights/articles/how-tariffs-are-forecast-to-affect-us-stocks), proposed tariffs have the power to chip away at the earnings of major U.S. companies significantly. The possibility of new tariffs affecting North American and European trade could severely alter corporate strategies, requiring a recalibration of global market priorities and increasing the effective tariff rate substantially.\n",
       "\n",
       "#### Mitigating Strategies for Investors\n",
       "\n",
       "For investors, strategic adjustments are imperative:\n",
       "- **Interest Rate Resilience**: Focus on sectors such as utilities and healthcare, which traditionally withstand rate hikes.\n",
       "- **Diversified Portfolios**: Consider diversifying into domestic-oriented companies less vulnerable to international tariff policies.\n",
       "- **Hedging Trade Risks**: Implement hedging structures to mitigate potential adverse impacts from ongoing trade negotiations.\n",
       "\n",
       "#### Conclusion\n",
       "\n",
       "As we look ahead, staying informed and adapting investment strategies will be vital for navigating the challenges inflation and trade tariffs pose. Proactive measures and an informed understanding of these macroeconomic forces can empower investors to make strategic decisions that bolster confidence and foster growth in their investment portfolios in 2024.\n",
       "\n",
       "**Explore more insights and stay updated with our latest articles to adapt your investment strategies effectively.**"
      ],
      "text/plain": [
       "<IPython.core.display.Markdown object>"
      ]
     },
     "metadata": {},
     "output_type": "display_data"
    },
    {
     "name": "stdout",
     "output_type": "stream",
     "text": [
      "Platform: Twitter\n",
      "🔍 Discover how US inflation dynamics and interest rate\n",
      "changes are setting the stage for 2024's stock market\n",
      "movements. Insightful analysis reveals pathways for\n",
      "strategic investment. [Link to Blog Post]\n",
      "------------------------------------------------------------\n",
      "Platform: LinkedIn\n",
      "In 2024, US inflation and tariff negotiations are key\n",
      "factors shaping stock market trends. Explore our in-depth\n",
      "analysis of how these forces can impact your portfolio and\n",
      "strategic opportunities to leverage these changes for\n",
      "growth. [Link to Blog Post]\n",
      "------------------------------------------------------------\n",
      "Platform: Instagram\n",
      "Swipe up to dive deep into how inflation and tariffs are\n",
      "influencing the US stock market in 2024. Stay ahead with\n",
      "strategic insights and recommendations. [Link to Blog Post]\n",
      "------------------------------------------------------------\n",
      "Platform: Facebook\n",
      "As we step into 2024, understanding the intersecting\n",
      "influences of inflation and international tariffs on the US\n",
      "stock market is crucial. Our latest blog post brings you\n",
      "comprehensive insights and actionable recommendations to\n",
      "help steer your investment strategies. [Link to Blog Post]\n",
      "------------------------------------------------------------\n"
     ]
    }
   ],
   "source": [
    "def extract_json(text: str) -> dict:\n",
    "    pattern = re.compile(r\"```json\\s*(\\{.*\\})\\s*```\", re.DOTALL)\n",
    "    match = pattern.search(text)\n",
    "    if match:\n",
    "        return json.loads(match.group(1))\n",
    "    return json.loads(text.strip())\n",
    "\n",
    "output_data = extract_json(final_output)\n",
    "article = output_data.get(\"article\", {})\n",
    "posts = output_data.get(\"social_media_posts\", [])\n",
    "\n",
    "article_md = f\"# {article.get('title')}\\n\\n{article.get('content')}\\n\\n**{article.get('call_to_action')}**\"\n",
    "display(Markdown(article_md))\n",
    "\n",
    "for post in posts:\n",
    "    print(f\"Platform: {post['platform']}\")\n",
    "    print(textwrap.fill(post['content'], width=60))\n",
    "    print('-' * 60)"
   ]
  },
  {
   "cell_type": "code",
   "execution_count": null,
   "metadata": {},
   "outputs": [],
   "source": []
  }
 ],
 "metadata": {
  "kernelspec": {
   "display_name": "dev",
   "language": "python",
   "name": "python3"
  },
  "language_info": {
   "codemirror_mode": {
    "name": "ipython",
    "version": 3
   },
   "file_extension": ".py",
   "mimetype": "text/x-python",
   "name": "python",
   "nbconvert_exporter": "python",
   "pygments_lexer": "ipython3",
   "version": "3.11.11"
  }
 },
 "nbformat": 4,
 "nbformat_minor": 2
}
