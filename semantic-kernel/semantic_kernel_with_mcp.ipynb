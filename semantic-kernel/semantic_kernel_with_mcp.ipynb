{
 "cells": [
  {
   "cell_type": "markdown",
   "metadata": {},
   "source": [
    "\n",
    "## Semantic Kernel with MCP\n",
    "\n",
    "A comprehensive list of all MCP servers can be found [here](https://github.com/modelcontextprotocol/servers?tab=readme-ov-file). Ensure that your arguments (`args`) and environment variables (`env`) conform to the MCP input requirements. Additionally, create the necessary API keys if required by the MCP server.\n",
    "\n",
    "### Example: Using Google Maps MCP  ],\n",
    "      \"args\": [\n",
    "        \"-y\",\n",
    "        \"@modelcontextprotocol/server-google-maps\"\n",
    "      ],\n",
    "      \"env\": {\n",
    "        \"GOOGLE_MAPS_API_KEY\": \"<YOUR_API_KEY>\"\n",
    "      }"
   ]
  },
  {
   "cell_type": "code",
   "execution_count": null,
   "metadata": {},
   "outputs": [],
   "source": [
    "import asyncio\n",
    "import nest_asyncio\n",
    "import os\n",
    "from dotenv import load_dotenv\n",
    "from semantic_kernel.agents import ChatCompletionAgent, ChatHistoryAgentThread\n",
    "from semantic_kernel.connectors.ai.open_ai import AzureChatCompletion\n",
    "from semantic_kernel.connectors.mcp import MCPStdioPlugin\n",
    "\n",
    "load_dotenv()\n",
    "nest_asyncio.apply()\n",
    "\n",
    "async def main():\n",
    "    async with MCPStdioPlugin(\n",
    "        name=\"Github\",\n",
    "        description=\"Github Plugin\",\n",
    "        command=\"npx\",\n",
    "        args=[\"-y\", \"@modelcontextprotocol/server-github\"],\n",
    "    ) as github_plugin:\n",
    "        agent = ChatCompletionAgent(\n",
    "            service=AzureChatCompletion(),\n",
    "            name=\"IssueAgent\",\n",
    "            instructions=\"Answer questions about gitHub repos, issues etc.\",\n",
    "            plugins=[github_plugin],\n",
    "        )\n",
    "\n",
    "        thread: ChatHistoryAgentThread = None\n",
    "\n",
    "        print(\"💬 Start chatting with the agent. Type 'exit' to quit.\\n\")\n",
    "\n",
    "        while True:\n",
    "            try:\n",
    "                user_input = input(\"User:> \")\n",
    "            except (KeyboardInterrupt, EOFError):\n",
    "                print(\"\\n\\n👋 Exiting chat...\")\n",
    "                break\n",
    "\n",
    "            if user_input.lower().strip() == \"exit\":\n",
    "                print(\"\\n👋 Exiting chat...\")\n",
    "                break\n",
    "\n",
    "            response = await agent.get_response(messages=user_input, thread=thread)\n",
    "            print(f\"{response.name}: {response}\")\n",
    "            thread = response.thread\n",
    "\n",
    "        # Cleanup: delete the thread\n",
    "        await thread.delete() if thread else None\n"
   ]
  },
  {
   "cell_type": "code",
   "execution_count": null,
   "metadata": {},
   "outputs": [],
   "source": [
    "asyncio.run(main())"
   ]
  },
  {
   "cell_type": "code",
   "execution_count": null,
   "metadata": {},
   "outputs": [],
   "source": []
  }
 ],
 "metadata": {
  "kernelspec": {
   "display_name": "ai-agents",
   "language": "python",
   "name": "python3"
  },
  "language_info": {
   "codemirror_mode": {
    "name": "ipython",
    "version": 3
   },
   "file_extension": ".py",
   "mimetype": "text/x-python",
   "name": "python",
   "nbconvert_exporter": "python",
   "pygments_lexer": "ipython3",
   "version": "3.12.9"
  }
 },
 "nbformat": 4,
 "nbformat_minor": 2
}
